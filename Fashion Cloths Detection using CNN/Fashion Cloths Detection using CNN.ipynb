{
  "nbformat": 4,
  "nbformat_minor": 0,
  "metadata": {
    "colab": {
      "name": "FMNIST : : Version-3(Experimental).ipynb",
      "provenance": [],
      "collapsed_sections": []
    },
    "kernelspec": {
      "name": "python3",
      "display_name": "Python 3"
    },
    "language_info": {
      "name": "python"
    },
    "accelerator": "GPU"
  },
  "cells": [
    {
      "cell_type": "code",
      "execution_count": 1,
      "metadata": {
        "id": "ThEE_LfwYRBJ"
      },
      "outputs": [],
      "source": [
        "import tensorflow as tf"
      ]
    },
    {
      "cell_type": "code",
      "source": [
        "fashion_mnist = tf.keras.datasets.fashion_mnist\n",
        "# mnist = tf.keras.datasets.mnist"
      ],
      "metadata": {
        "id": "RPwpXPy9Yisl"
      },
      "execution_count": 2,
      "outputs": []
    },
    {
      "cell_type": "code",
      "source": [
        "(x_train, y_train), (x_test, y_test) = fashion_mnist.load_data()\n",
        "# (x_train, y_train), (x_test, y_test) = mnist.load_data()"
      ],
      "metadata": {
        "id": "uSA6L6aEY0ZG",
        "colab": {
          "base_uri": "https://localhost:8080/"
        },
        "outputId": "ab2e032e-a975-44e7-efd7-29e314eea29f"
      },
      "execution_count": 3,
      "outputs": [
        {
          "output_type": "stream",
          "name": "stdout",
          "text": [
            "Downloading data from https://storage.googleapis.com/tensorflow/tf-keras-datasets/train-labels-idx1-ubyte.gz\n",
            "32768/29515 [=================================] - 0s 0us/step\n",
            "40960/29515 [=========================================] - 0s 0us/step\n",
            "Downloading data from https://storage.googleapis.com/tensorflow/tf-keras-datasets/train-images-idx3-ubyte.gz\n",
            "26427392/26421880 [==============================] - 0s 0us/step\n",
            "26435584/26421880 [==============================] - 0s 0us/step\n",
            "Downloading data from https://storage.googleapis.com/tensorflow/tf-keras-datasets/t10k-labels-idx1-ubyte.gz\n",
            "16384/5148 [===============================================================================================] - 0s 0us/step\n",
            "Downloading data from https://storage.googleapis.com/tensorflow/tf-keras-datasets/t10k-images-idx3-ubyte.gz\n",
            "4423680/4422102 [==============================] - 0s 0us/step\n",
            "4431872/4422102 [==============================] - 0s 0us/step\n"
          ]
        }
      ]
    },
    {
      "cell_type": "code",
      "source": [
        "print(x_train.shape)\n",
        "print(y_train.shape)\n",
        "print(x_test.shape)\n",
        "print(y_test.shape)"
      ],
      "metadata": {
        "colab": {
          "base_uri": "https://localhost:8080/"
        },
        "id": "X1DEAHgbZKQf",
        "outputId": "d8e44b7c-7654-42bc-ed17-e3265aad2955"
      },
      "execution_count": 4,
      "outputs": [
        {
          "output_type": "stream",
          "name": "stdout",
          "text": [
            "(60000, 28, 28)\n",
            "(60000,)\n",
            "(10000, 28, 28)\n",
            "(10000,)\n"
          ]
        }
      ]
    },
    {
      "cell_type": "code",
      "source": [
        "import matplotlib.pyplot as plt\n",
        "\n",
        "plt.imshow(x_train[0])\n",
        "plt.show()\n",
        "\n",
        "plt.imshow(x_train[0], cmap=plt.get_cmap('gray'))"
      ],
      "metadata": {
        "colab": {
          "base_uri": "https://localhost:8080/",
          "height": 530
        },
        "id": "mo4nsxmqZoPj",
        "outputId": "d98dbb6b-9142-4ef9-c79d-f06187699776"
      },
      "execution_count": 5,
      "outputs": [
        {
          "output_type": "display_data",
          "data": {
            "image/png": "[encoded data removed]",
            "text/plain": [
              "<Figure size 432x288 with 1 Axes>"
            ]
          },
          "metadata": {
            "needs_background": "light"
          }
        },
        {
          "output_type": "execute_result",
          "data": {
            "text/plain": [
              "<matplotlib.image.AxesImage at 0x7f9bc720c590>"
            ]
          },
          "metadata": {},
          "execution_count": 5
        },
        {
          "output_type": "display_data",
          "data": {
            "image/png": "[encoded data removed]",
            "text/plain": [
              "<Figure size 432x288 with 1 Axes>"
            ]
          },
          "metadata": {
            "needs_background": "light"
          }
        }
      ]
    },
    {
      "cell_type": "code",
      "source": [
        "print(x_train[0])"
      ],
      "metadata": {
        "colab": {
          "base_uri": "https://localhost:8080/"
        },
        "id": "E3F42Ul0ahsT",
        "outputId": "9f5c4c49-47bb-4e65-9bd2-cf925da991f7"
      },
      "execution_count": 6,
      "outputs": [
        {
          "output_type": "stream",
          "name": "stdout",
          "text": [
            "[[  0   0   0   0   0   0   0   0   0   0   0   0   0   0   0   0   0   0\n",
            "    0   0   0   0   0   0   0   0   0   0]\n",
            " [  0   0   0   0   0   0   0   0   0   0   0   0   0   0   0   0   0   0\n",
            "    0   0   0   0   0   0   0   0   0   0]\n",
            " [  0   0   0   0   0   0   0   0   0   0   0   0   0   0   0   0   0   0\n",
            "    0   0   0   0   0   0   0   0   0   0]\n",
            " [  0   0   0   0   0   0   0   0   0   0   0   0   1   0   0  13  73   0\n",
            "    0   1   4   0   0   0   0   1   1   0]\n",
            " [  0   0   0   0   0   0   0   0   0   0   0   0   3   0  36 136 127  62\n",
            "   54   0   0   0   1   3   4   0   0   3]\n",
            " [  0   0   0   0   0   0   0   0   0   0   0   0   6   0 102 204 176 134\n",
            "  144 123  23   0   0   0   0  12  10   0]\n",
            " [  0   0   0   0   0   0   0   0   0   0   0   0   0   0 155 236 207 178\n",
            "  107 156 161 109  64  23  77 130  72  15]\n",
            " [  0   0   0   0   0   0   0   0   0   0   0   1   0  69 207 223 218 216\n",
            "  216 163 127 121 122 146 141  88 172  66]\n",
            " [  0   0   0   0   0   0   0   0   0   1   1   1   0 200 232 232 233 229\n",
            "  223 223 215 213 164 127 123 196 229   0]\n",
            " [  0   0   0   0   0   0   0   0   0   0   0   0   0 183 225 216 223 228\n",
            "  235 227 224 222 224 221 223 245 173   0]\n",
            " [  0   0   0   0   0   0   0   0   0   0   0   0   0 193 228 218 213 198\n",
            "  180 212 210 211 213 223 220 243 202   0]\n",
            " [  0   0   0   0   0   0   0   0   0   1   3   0  12 219 220 212 218 192\n",
            "  169 227 208 218 224 212 226 197 209  52]\n",
            " [  0   0   0   0   0   0   0   0   0   0   6   0  99 244 222 220 218 203\n",
            "  198 221 215 213 222 220 245 119 167  56]\n",
            " [  0   0   0   0   0   0   0   0   0   4   0   0  55 236 228 230 228 240\n",
            "  232 213 218 223 234 217 217 209  92   0]\n",
            " [  0   0   1   4   6   7   2   0   0   0   0   0 237 226 217 223 222 219\n",
            "  222 221 216 223 229 215 218 255  77   0]\n",
            " [  0   3   0   0   0   0   0   0   0  62 145 204 228 207 213 221 218 208\n",
            "  211 218 224 223 219 215 224 244 159   0]\n",
            " [  0   0   0   0  18  44  82 107 189 228 220 222 217 226 200 205 211 230\n",
            "  224 234 176 188 250 248 233 238 215   0]\n",
            " [  0  57 187 208 224 221 224 208 204 214 208 209 200 159 245 193 206 223\n",
            "  255 255 221 234 221 211 220 232 246   0]\n",
            " [  3 202 228 224 221 211 211 214 205 205 205 220 240  80 150 255 229 221\n",
            "  188 154 191 210 204 209 222 228 225   0]\n",
            " [ 98 233 198 210 222 229 229 234 249 220 194 215 217 241  65  73 106 117\n",
            "  168 219 221 215 217 223 223 224 229  29]\n",
            " [ 75 204 212 204 193 205 211 225 216 185 197 206 198 213 240 195 227 245\n",
            "  239 223 218 212 209 222 220 221 230  67]\n",
            " [ 48 203 183 194 213 197 185 190 194 192 202 214 219 221 220 236 225 216\n",
            "  199 206 186 181 177 172 181 205 206 115]\n",
            " [  0 122 219 193 179 171 183 196 204 210 213 207 211 210 200 196 194 191\n",
            "  195 191 198 192 176 156 167 177 210  92]\n",
            " [  0   0  74 189 212 191 175 172 175 181 185 188 189 188 193 198 204 209\n",
            "  210 210 211 188 188 194 192 216 170   0]\n",
            " [  2   0   0   0  66 200 222 237 239 242 246 243 244 221 220 193 191 179\n",
            "  182 182 181 176 166 168  99  58   0   0]\n",
            " [  0   0   0   0   0   0   0  40  61  44  72  41  35   0   0   0   0   0\n",
            "    0   0   0   0   0   0   0   0   0   0]\n",
            " [  0   0   0   0   0   0   0   0   0   0   0   0   0   0   0   0   0   0\n",
            "    0   0   0   0   0   0   0   0   0   0]\n",
            " [  0   0   0   0   0   0   0   0   0   0   0   0   0   0   0   0   0   0\n",
            "    0   0   0   0   0   0   0   0   0   0]]\n"
          ]
        }
      ]
    },
    {
      "cell_type": "code",
      "source": [
        "x_train = x_train/255\n",
        "x_test = x_test/255\n",
        "plt.imshow(x_train[0], cmap=plt.get_cmap('gray'))"
      ],
      "metadata": {
        "colab": {
          "base_uri": "https://localhost:8080/",
          "height": 282
        },
        "id": "AG0J9E7tau1I",
        "outputId": "7a8832aa-6362-418a-9b21-0c6472ef547e"
      },
      "execution_count": 7,
      "outputs": [
        {
          "output_type": "execute_result",
          "data": {
            "text/plain": [
              "<matplotlib.image.AxesImage at 0x7f9bc7195610>"
            ]
          },
          "metadata": {},
          "execution_count": 7
        },
        {
          "output_type": "display_data",
          "data": {
            "image/png": "[encoded data removed]",
            "text/plain": [
              "<Figure size 432x288 with 1 Axes>"
            ]
          },
          "metadata": {
            "needs_background": "light"
          }
        }
      ]
    },
    {
      "cell_type": "code",
      "source": [
        "print(x_test[0])"
      ],
      "metadata": {
        "colab": {
          "base_uri": "https://localhost:8080/"
        },
        "id": "0B7HFlnkb5OO",
        "outputId": "67012efd-6f60-4256-ec57-28b177abf97b"
      },
      "execution_count": 8,
      "outputs": [
        {
          "output_type": "stream",
          "name": "stdout",
          "text": [
            "[[0.         0.         0.         0.         0.         0.\n",
            "  0.         0.         0.         0.         0.         0.\n",
            "  0.         0.         0.         0.         0.         0.\n",
            "  0.         0.         0.         0.         0.         0.\n",
            "  0.         0.         0.         0.        ]\n",
            " [0.         0.         0.         0.         0.         0.\n",
            "  0.         0.         0.         0.         0.         0.\n",
            "  0.         0.         0.         0.         0.         0.\n",
            "  0.         0.         0.         0.         0.         0.\n",
            "  0.         0.         0.         0.        ]\n",
            " [0.         0.         0.         0.         0.         0.\n",
            "  0.         0.         0.         0.         0.         0.\n",
            "  0.         0.         0.         0.         0.         0.\n",
            "  0.         0.         0.         0.         0.         0.\n",
            "  0.         0.         0.         0.        ]\n",
            " [0.         0.         0.         0.         0.         0.\n",
            "  0.         0.         0.         0.         0.         0.\n",
            "  0.         0.         0.         0.         0.         0.\n",
            "  0.         0.         0.         0.         0.         0.\n",
            "  0.         0.         0.         0.        ]\n",
            " [0.         0.         0.         0.         0.         0.\n",
            "  0.         0.         0.         0.         0.         0.\n",
            "  0.         0.         0.         0.         0.         0.\n",
            "  0.         0.         0.         0.         0.         0.\n",
            "  0.         0.         0.         0.        ]\n",
            " [0.         0.         0.         0.         0.         0.\n",
            "  0.         0.         0.         0.         0.         0.\n",
            "  0.         0.         0.         0.         0.         0.\n",
            "  0.         0.         0.         0.         0.         0.\n",
            "  0.         0.         0.         0.        ]\n",
            " [0.         0.         0.         0.         0.         0.\n",
            "  0.         0.         0.         0.         0.         0.\n",
            "  0.         0.         0.         0.         0.         0.\n",
            "  0.         0.         0.         0.         0.         0.\n",
            "  0.         0.         0.         0.        ]\n",
            " [0.         0.         0.         0.         0.         0.\n",
            "  0.         0.         0.         0.         0.         0.\n",
            "  0.         0.         0.         0.         0.         0.\n",
            "  0.         0.01176471 0.00392157 0.         0.         0.02745098\n",
            "  0.         0.14509804 0.         0.        ]\n",
            " [0.         0.         0.         0.         0.         0.\n",
            "  0.         0.         0.         0.         0.         0.\n",
            "  0.         0.00392157 0.00784314 0.         0.10588235 0.32941176\n",
            "  0.04313725 0.         0.         0.         0.         0.\n",
            "  0.         0.46666667 0.         0.        ]\n",
            " [0.         0.         0.         0.         0.         0.\n",
            "  0.         0.         0.         0.         0.         0.\n",
            "  0.         0.00392157 0.         0.         0.34509804 0.56078431\n",
            "  0.43137255 0.         0.         0.         0.         0.08627451\n",
            "  0.36470588 0.41568627 0.         0.        ]\n",
            " [0.         0.         0.         0.         0.         0.\n",
            "  0.         0.         0.         0.         0.         0.\n",
            "  0.         0.01568627 0.         0.20784314 0.50588235 0.47058824\n",
            "  0.57647059 0.68627451 0.61568627 0.65098039 0.52941176 0.60392157\n",
            "  0.65882353 0.54901961 0.         0.        ]\n",
            " [0.         0.         0.         0.         0.         0.\n",
            "  0.         0.         0.         0.         0.         0.\n",
            "  0.00784314 0.         0.04313725 0.5372549  0.50980392 0.50196078\n",
            "  0.62745098 0.69019608 0.62352941 0.65490196 0.69803922 0.58431373\n",
            "  0.59215686 0.56470588 0.         0.        ]\n",
            " [0.         0.         0.         0.         0.         0.\n",
            "  0.00392157 0.         0.00784314 0.00392157 0.         0.01176471\n",
            "  0.         0.         0.45098039 0.44705882 0.41568627 0.5372549\n",
            "  0.65882353 0.6        0.61176471 0.64705882 0.65490196 0.56078431\n",
            "  0.61568627 0.61960784 0.04313725 0.        ]\n",
            " [0.         0.         0.         0.         0.00392157 0.\n",
            "  0.         0.         0.         0.         0.01176471 0.\n",
            "  0.         0.34901961 0.54509804 0.35294118 0.36862745 0.6\n",
            "  0.58431373 0.51372549 0.59215686 0.6627451  0.6745098  0.56078431\n",
            "  0.62352941 0.6627451  0.18823529 0.        ]\n",
            " [0.         0.         0.         0.         0.         0.\n",
            "  0.00784314 0.01568627 0.00392157 0.         0.         0.\n",
            "  0.38431373 0.53333333 0.43137255 0.42745098 0.43137255 0.63529412\n",
            "  0.52941176 0.56470588 0.58431373 0.62352941 0.65490196 0.56470588\n",
            "  0.61960784 0.6627451  0.46666667 0.        ]\n",
            " [0.         0.         0.00784314 0.00784314 0.00392157 0.00784314\n",
            "  0.         0.         0.         0.         0.10196078 0.42352941\n",
            "  0.45882353 0.38823529 0.43529412 0.45882353 0.53333333 0.61176471\n",
            "  0.5254902  0.60392157 0.60392157 0.61176471 0.62745098 0.55294118\n",
            "  0.57647059 0.61176471 0.69803922 0.        ]\n",
            " [0.01176471 0.         0.         0.         0.         0.\n",
            "  0.         0.08235294 0.20784314 0.36078431 0.45882353 0.43529412\n",
            "  0.40392157 0.45098039 0.50588235 0.5254902  0.56078431 0.60392157\n",
            "  0.64705882 0.66666667 0.60392157 0.59215686 0.60392157 0.56078431\n",
            "  0.54117647 0.58823529 0.64705882 0.16862745]\n",
            " [0.         0.         0.09019608 0.21176471 0.25490196 0.29803922\n",
            "  0.33333333 0.4627451  0.50196078 0.48235294 0.43529412 0.44313725\n",
            "  0.4627451  0.49803922 0.49019608 0.54509804 0.52156863 0.53333333\n",
            "  0.62745098 0.54901961 0.60784314 0.63137255 0.56470588 0.60784314\n",
            "  0.6745098  0.63137255 0.74117647 0.24313725]\n",
            " [0.         0.26666667 0.36862745 0.35294118 0.43529412 0.44705882\n",
            "  0.43529412 0.44705882 0.45098039 0.49803922 0.52941176 0.53333333\n",
            "  0.56078431 0.49411765 0.49803922 0.59215686 0.60392157 0.56078431\n",
            "  0.58039216 0.49019608 0.63529412 0.63529412 0.56470588 0.54117647\n",
            "  0.6        0.63529412 0.76862745 0.22745098]\n",
            " [0.2745098  0.6627451  0.50588235 0.40784314 0.38431373 0.39215686\n",
            "  0.36862745 0.38039216 0.38431373 0.4        0.42352941 0.41568627\n",
            "  0.46666667 0.47058824 0.50588235 0.58431373 0.61176471 0.65490196\n",
            "  0.74509804 0.74509804 0.76862745 0.77647059 0.77647059 0.73333333\n",
            "  0.77254902 0.74117647 0.72156863 0.14117647]\n",
            " [0.0627451  0.49411765 0.67058824 0.7372549  0.7372549  0.72156863\n",
            "  0.67058824 0.6        0.52941176 0.47058824 0.49411765 0.49803922\n",
            "  0.57254902 0.7254902  0.76470588 0.81960784 0.81568627 1.\n",
            "  0.81960784 0.69411765 0.96078431 0.98823529 0.98431373 0.98431373\n",
            "  0.96862745 0.8627451  0.80784314 0.19215686]\n",
            " [0.         0.         0.         0.04705882 0.2627451  0.41568627\n",
            "  0.64313725 0.7254902  0.78039216 0.82352941 0.82745098 0.82352941\n",
            "  0.81568627 0.74509804 0.58823529 0.32156863 0.03137255 0.\n",
            "  0.         0.         0.69803922 0.81568627 0.7372549  0.68627451\n",
            "  0.63529412 0.61960784 0.59215686 0.04313725]\n",
            " [0.         0.         0.         0.         0.         0.\n",
            "  0.         0.         0.         0.         0.         0.\n",
            "  0.         0.         0.         0.         0.         0.\n",
            "  0.         0.         0.         0.         0.         0.\n",
            "  0.         0.         0.         0.        ]\n",
            " [0.         0.         0.         0.         0.         0.\n",
            "  0.         0.         0.         0.         0.         0.\n",
            "  0.         0.         0.         0.         0.         0.\n",
            "  0.         0.         0.         0.         0.         0.\n",
            "  0.         0.         0.         0.        ]\n",
            " [0.         0.         0.         0.         0.         0.\n",
            "  0.         0.         0.         0.         0.         0.\n",
            "  0.         0.         0.         0.         0.         0.\n",
            "  0.         0.         0.         0.         0.         0.\n",
            "  0.         0.         0.         0.        ]\n",
            " [0.         0.         0.         0.         0.         0.\n",
            "  0.         0.         0.         0.         0.         0.\n",
            "  0.         0.         0.         0.         0.         0.\n",
            "  0.         0.         0.         0.         0.         0.\n",
            "  0.         0.         0.         0.        ]\n",
            " [0.         0.         0.         0.         0.         0.\n",
            "  0.         0.         0.         0.         0.         0.\n",
            "  0.         0.         0.         0.         0.         0.\n",
            "  0.         0.         0.         0.         0.         0.\n",
            "  0.         0.         0.         0.        ]\n",
            " [0.         0.         0.         0.         0.         0.\n",
            "  0.         0.         0.         0.         0.         0.\n",
            "  0.         0.         0.         0.         0.         0.\n",
            "  0.         0.         0.         0.         0.         0.\n",
            "  0.         0.         0.         0.        ]]\n"
          ]
        }
      ]
    },
    {
      "cell_type": "code",
      "source": [
        "print(y_train[1], y_test[1])"
      ],
      "metadata": {
        "colab": {
          "base_uri": "https://localhost:8080/"
        },
        "id": "TUoYdo5ycINE",
        "outputId": "65b22e00-6d6b-4597-ec78-85c95a8c0187"
      },
      "execution_count": 9,
      "outputs": [
        {
          "output_type": "stream",
          "name": "stdout",
          "text": [
            "0 2\n"
          ]
        }
      ]
    },
    {
      "cell_type": "code",
      "source": [
        "import numpy as np\n",
        "\n",
        "x_trainr = np.array(x_train).reshape(60000, 28, 28, 1)\n",
        "x_testr = np.array(x_test).reshape(10000, 28, 28, 1)\n",
        "\n",
        "print(\"Training sample dimention: \", x_trainr.shape)\n",
        "print(\"Testing sample dimention: \", x_testr.shape)"
      ],
      "metadata": {
        "colab": {
          "base_uri": "https://localhost:8080/"
        },
        "id": "8dB6eXMOcfRu",
        "outputId": "588995c3-477d-4373-b683-bafa05fcb255"
      },
      "execution_count": 10,
      "outputs": [
        {
          "output_type": "stream",
          "name": "stdout",
          "text": [
            "Training sample dimention:  (60000, 28, 28, 1)\n",
            "Testing sample dimention:  (10000, 28, 28, 1)\n"
          ]
        }
      ]
    },
    {
      "cell_type": "code",
      "source": [
        "from tensorflow.keras.models import Sequential\n",
        "from tensorflow.keras.layers import Dense, Activation, Flatten, Conv2D, MaxPooling2D, Dropout"
      ],
      "metadata": {
        "id": "C3AG_-MuuMmc"
      },
      "execution_count": 11,
      "outputs": []
    },
    {
      "cell_type": "code",
      "source": [
        ""
      ],
      "metadata": {
        "id": "wOX19F5-uN28"
      },
      "execution_count": 11,
      "outputs": []
    },
    {
      "cell_type": "markdown",
      "source": [
        "# Model Create"
      ],
      "metadata": {
        "id": "YCGggIKMqfWT"
      }
    },
    {
      "cell_type": "code",
      "source": [
        "from tensorflow.keras.callbacks import ModelCheckpoint\n",
        "fmnist_model_checkpoint = ModelCheckpoint('FMNIST_Weight.h5',\n",
        "                                   save_best_only=True,\n",
        "                                   monitor='loss',\n",
        "                                   verbose=1                            \n",
        "                                   )"
      ],
      "metadata": {
        "id": "XoZ35ra4l-FY"
      },
      "execution_count": 12,
      "outputs": []
    },
    {
      "cell_type": "code",
      "source": [
        "model = Sequential()"
      ],
      "metadata": {
        "id": "gvONRqHTdnyM"
      },
      "execution_count": 13,
      "outputs": []
    },
    {
      "cell_type": "code",
      "source": [
        "# 1st Layer\n",
        "model.add(Conv2D(64, (3,3), input_shape = (28,28,1), activation='relu'))\n",
        "model.add(MaxPooling2D(pool_size=(2,2)))\n",
        "\n",
        "# model.add(Dropout(rate=0.1))\n",
        "# 2nd Layer\n",
        "# model.add(Conv2D(32, (3,3), activation='relu'))\n",
        "# model.add(MaxPooling2D(pool_size=(2,2)))\n",
        "\n",
        "model.add(Dropout(rate=0.1))\n",
        "# 3rd Layer\n",
        "model.add(Conv2D(16, (3,3), activation='relu'))\n",
        "model.add(MaxPooling2D(pool_size=(2,2)))\n",
        "\n",
        "model.add(Flatten())\n",
        "\n",
        "model.add(Dense(64))\n",
        "model.add(Activation('relu'))\n",
        "\n",
        "model.add(Dropout(rate=0.1))\n",
        "\n",
        "model.add(Dense(32))\n",
        "model.add(Activation('relu'))\n",
        "\n",
        "model.add(Dense(10))\n",
        "model.add(Activation('softmax'))"
      ],
      "metadata": {
        "id": "RuKVWWkNdvY8"
      },
      "execution_count": 14,
      "outputs": []
    },
    {
      "cell_type": "code",
      "source": [
        "model.summary()"
      ],
      "metadata": {
        "colab": {
          "base_uri": "https://localhost:8080/"
        },
        "id": "X1zFS5eDiu2x",
        "outputId": "2bea8824-03f2-48c4-ed89-7b022def4fe2"
      },
      "execution_count": 15,
      "outputs": [
        {
          "output_type": "stream",
          "name": "stdout",
          "text": [
            "Model: \"sequential\"\n",
            "_________________________________________________________________\n",
            " Layer (type)                Output Shape              Param #   \n",
            "=================================================================\n",
            " conv2d (Conv2D)             (None, 26, 26, 64)        640       \n",
            "                                                                 \n",
            " max_pooling2d (MaxPooling2D  (None, 13, 13, 64)       0         \n",
            " )                                                               \n",
            "                                                                 \n",
            " dropout (Dropout)           (None, 13, 13, 64)        0         \n",
            "                                                                 \n",
            " conv2d_1 (Conv2D)           (None, 11, 11, 16)        9232      \n",
            "                                                                 \n",
            " max_pooling2d_1 (MaxPooling  (None, 5, 5, 16)         0         \n",
            " 2D)                                                             \n",
            "                                                                 \n",
            " flatten (Flatten)           (None, 400)               0         \n",
            "                                                                 \n",
            " dense (Dense)               (None, 64)                25664     \n",
            "                                                                 \n",
            " activation (Activation)     (None, 64)                0         \n",
            "                                                                 \n",
            " dropout_1 (Dropout)         (None, 64)                0         \n",
            "                                                                 \n",
            " dense_1 (Dense)             (None, 32)                2080      \n",
            "                                                                 \n",
            " activation_1 (Activation)   (None, 32)                0         \n",
            "                                                                 \n",
            " dense_2 (Dense)             (None, 10)                330       \n",
            "                                                                 \n",
            " activation_2 (Activation)   (None, 10)                0         \n",
            "                                                                 \n",
            "=================================================================\n",
            "Total params: 37,946\n",
            "Trainable params: 37,946\n",
            "Non-trainable params: 0\n",
            "_________________________________________________________________\n"
          ]
        }
      ]
    },
    {
      "cell_type": "code",
      "source": [
        "from keras.utils.vis_utils import plot_model\n",
        "plot_model(model, to_file='model.png', show_shapes=True, show_layer_names=True)"
      ],
      "metadata": {
        "colab": {
          "base_uri": "https://localhost:8080/",
          "height": 1000
        },
        "id": "t1G7YUhpmCgS",
        "outputId": "f42605d0-1f5a-43c5-c423-0c20f07dd576"
      },
      "execution_count": 16,
      "outputs": [
        {
          "output_type": "execute_result",
          "data": {
            "image/png": "[encoded data removed]",
            "text/plain": [
              "<IPython.core.display.Image object>"
            ]
          },
          "metadata": {},
          "execution_count": 16
        }
      ]
    },
    {
      "cell_type": "code",
      "source": [
        "print(\"Total training sample: \", len(x_trainr))"
      ],
      "metadata": {
        "colab": {
          "base_uri": "https://localhost:8080/"
        },
        "id": "o7d3KIqJjCGI",
        "outputId": "6a7e947f-55e2-4486-855d-18413e46e633"
      },
      "execution_count": 17,
      "outputs": [
        {
          "output_type": "stream",
          "name": "stdout",
          "text": [
            "Total training sample:  60000\n"
          ]
        }
      ]
    },
    {
      "cell_type": "code",
      "source": [
        "model.compile(optimizer=\"adam\", loss='sparse_categorical_crossentropy', metrics=['accuracy'])"
      ],
      "metadata": {
        "id": "FbA1ErvojL5q"
      },
      "execution_count": 18,
      "outputs": []
    },
    {
      "cell_type": "code",
      "source": [
        "history = model.fit(x_trainr, y_train, batch_size=512, epochs=100, validation_split = 0.3, callbacks=[fmnist_model_checkpoint])"
      ],
      "metadata": {
        "colab": {
          "base_uri": "https://localhost:8080/"
        },
        "id": "rC4Q1PMxjgxN",
        "outputId": "04387442-b359-4250-d8f8-eedfed4af800"
      },
      "execution_count": 19,
      "outputs": [
        {
          "output_type": "stream",
          "name": "stdout",
          "text": [
            "Epoch 1/100\n",
            "83/83 [==============================] - ETA: 0s - loss: 1.1652 - accuracy: 0.5737\n",
            "Epoch 00001: loss improved from inf to 1.16517, saving model to FMNIST_Weight.h5\n",
            "83/83 [==============================] - 17s 21ms/step - loss: 1.1652 - accuracy: 0.5737 - val_loss: 0.6290 - val_accuracy: 0.7646\n",
            "Epoch 2/100\n",
            "82/83 [============================>.] - ETA: 0s - loss: 0.6091 - accuracy: 0.7697\n",
            "Epoch 00002: loss improved from 1.16517 to 0.60909, saving model to FMNIST_Weight.h5\n",
            "83/83 [==============================] - 1s 16ms/step - loss: 0.6091 - accuracy: 0.7697 - val_loss: 0.5407 - val_accuracy: 0.7950\n",
            "Epoch 3/100\n",
            "81/83 [============================>.] - ETA: 0s - loss: 0.5213 - accuracy: 0.8061\n",
            "Epoch 00003: loss improved from 0.60909 to 0.52070, saving model to FMNIST_Weight.h5\n",
            "83/83 [==============================] - 1s 18ms/step - loss: 0.5207 - accuracy: 0.8061 - val_loss: 0.4645 - val_accuracy: 0.8278\n",
            "Epoch 4/100\n",
            "81/83 [============================>.] - ETA: 0s - loss: 0.4697 - accuracy: 0.8275\n",
            "Epoch 00004: loss improved from 0.52070 to 0.46931, saving model to FMNIST_Weight.h5\n",
            "83/83 [==============================] - 1s 17ms/step - loss: 0.4693 - accuracy: 0.8276 - val_loss: 0.4281 - val_accuracy: 0.8424\n",
            "Epoch 5/100\n",
            "81/83 [============================>.] - ETA: 0s - loss: 0.4359 - accuracy: 0.8425\n",
            "Epoch 00005: loss improved from 0.46931 to 0.43518, saving model to FMNIST_Weight.h5\n",
            "83/83 [==============================] - 1s 17ms/step - loss: 0.4352 - accuracy: 0.8427 - val_loss: 0.4169 - val_accuracy: 0.8476\n",
            "Epoch 6/100\n",
            "81/83 [============================>.] - ETA: 0s - loss: 0.4129 - accuracy: 0.8490\n",
            "Epoch 00006: loss improved from 0.43518 to 0.41253, saving model to FMNIST_Weight.h5\n",
            "83/83 [==============================] - 1s 17ms/step - loss: 0.4125 - accuracy: 0.8491 - val_loss: 0.3827 - val_accuracy: 0.8594\n",
            "Epoch 7/100\n",
            "81/83 [============================>.] - ETA: 0s - loss: 0.3851 - accuracy: 0.8604\n",
            "Epoch 00007: loss improved from 0.41253 to 0.38545, saving model to FMNIST_Weight.h5\n",
            "83/83 [==============================] - 1s 18ms/step - loss: 0.3854 - accuracy: 0.8603 - val_loss: 0.3756 - val_accuracy: 0.8643\n",
            "Epoch 8/100\n",
            "81/83 [============================>.] - ETA: 0s - loss: 0.3780 - accuracy: 0.8613\n",
            "Epoch 00008: loss improved from 0.38545 to 0.37751, saving model to FMNIST_Weight.h5\n",
            "83/83 [==============================] - 1s 16ms/step - loss: 0.3775 - accuracy: 0.8614 - val_loss: 0.3611 - val_accuracy: 0.8682\n",
            "Epoch 9/100\n",
            "81/83 [============================>.] - ETA: 0s - loss: 0.3609 - accuracy: 0.8685\n",
            "Epoch 00009: loss improved from 0.37751 to 0.36054, saving model to FMNIST_Weight.h5\n",
            "83/83 [==============================] - 1s 16ms/step - loss: 0.3605 - accuracy: 0.8686 - val_loss: 0.3479 - val_accuracy: 0.8727\n",
            "Epoch 10/100\n",
            "81/83 [============================>.] - ETA: 0s - loss: 0.3475 - accuracy: 0.8733\n",
            "Epoch 00010: loss improved from 0.36054 to 0.34818, saving model to FMNIST_Weight.h5\n",
            "83/83 [==============================] - 1s 16ms/step - loss: 0.3482 - accuracy: 0.8729 - val_loss: 0.3444 - val_accuracy: 0.8746\n",
            "Epoch 11/100\n",
            "81/83 [============================>.] - ETA: 0s - loss: 0.3412 - accuracy: 0.8748\n",
            "Epoch 00011: loss improved from 0.34818 to 0.34145, saving model to FMNIST_Weight.h5\n",
            "83/83 [==============================] - 1s 16ms/step - loss: 0.3414 - accuracy: 0.8747 - val_loss: 0.3577 - val_accuracy: 0.8707\n",
            "Epoch 12/100\n",
            "81/83 [============================>.] - ETA: 0s - loss: 0.3336 - accuracy: 0.8784\n",
            "Epoch 00012: loss improved from 0.34145 to 0.33376, saving model to FMNIST_Weight.h5\n",
            "83/83 [==============================] - 1s 16ms/step - loss: 0.3338 - accuracy: 0.8785 - val_loss: 0.3336 - val_accuracy: 0.8762\n",
            "Epoch 13/100\n",
            "81/83 [============================>.] - ETA: 0s - loss: 0.3276 - accuracy: 0.8790\n",
            "Epoch 00013: loss improved from 0.33376 to 0.32670, saving model to FMNIST_Weight.h5\n",
            "83/83 [==============================] - 1s 16ms/step - loss: 0.3267 - accuracy: 0.8792 - val_loss: 0.3286 - val_accuracy: 0.8797\n",
            "Epoch 14/100\n",
            "81/83 [============================>.] - ETA: 0s - loss: 0.3155 - accuracy: 0.8845\n",
            "Epoch 00014: loss improved from 0.32670 to 0.31606, saving model to FMNIST_Weight.h5\n",
            "83/83 [==============================] - 1s 18ms/step - loss: 0.3161 - accuracy: 0.8845 - val_loss: 0.3220 - val_accuracy: 0.8823\n",
            "Epoch 15/100\n",
            "81/83 [============================>.] - ETA: 0s - loss: 0.3139 - accuracy: 0.8840\n",
            "Epoch 00015: loss improved from 0.31606 to 0.31487, saving model to FMNIST_Weight.h5\n",
            "83/83 [==============================] - 1s 17ms/step - loss: 0.3149 - accuracy: 0.8838 - val_loss: 0.3221 - val_accuracy: 0.8803\n",
            "Epoch 16/100\n",
            "81/83 [============================>.] - ETA: 0s - loss: 0.3055 - accuracy: 0.8877\n",
            "Epoch 00016: loss improved from 0.31487 to 0.30524, saving model to FMNIST_Weight.h5\n",
            "83/83 [==============================] - 1s 17ms/step - loss: 0.3052 - accuracy: 0.8880 - val_loss: 0.3233 - val_accuracy: 0.8804\n",
            "Epoch 17/100\n",
            "81/83 [============================>.] - ETA: 0s - loss: 0.3044 - accuracy: 0.8890\n",
            "Epoch 00017: loss improved from 0.30524 to 0.30452, saving model to FMNIST_Weight.h5\n",
            "83/83 [==============================] - 1s 18ms/step - loss: 0.3045 - accuracy: 0.8888 - val_loss: 0.3018 - val_accuracy: 0.8898\n",
            "Epoch 18/100\n",
            "81/83 [============================>.] - ETA: 0s - loss: 0.2935 - accuracy: 0.8923\n",
            "Epoch 00018: loss improved from 0.30452 to 0.29312, saving model to FMNIST_Weight.h5\n",
            "83/83 [==============================] - 1s 18ms/step - loss: 0.2931 - accuracy: 0.8923 - val_loss: 0.3030 - val_accuracy: 0.8902\n",
            "Epoch 19/100\n",
            "81/83 [============================>.] - ETA: 0s - loss: 0.2884 - accuracy: 0.8928\n",
            "Epoch 00019: loss improved from 0.29312 to 0.28922, saving model to FMNIST_Weight.h5\n",
            "83/83 [==============================] - 1s 16ms/step - loss: 0.2892 - accuracy: 0.8926 - val_loss: 0.3096 - val_accuracy: 0.8875\n",
            "Epoch 20/100\n",
            "81/83 [============================>.] - ETA: 0s - loss: 0.2904 - accuracy: 0.8929\n",
            "Epoch 00020: loss did not improve from 0.28922\n",
            "83/83 [==============================] - 1s 16ms/step - loss: 0.2905 - accuracy: 0.8928 - val_loss: 0.2927 - val_accuracy: 0.8925\n",
            "Epoch 21/100\n",
            "81/83 [============================>.] - ETA: 0s - loss: 0.2880 - accuracy: 0.8934\n",
            "Epoch 00021: loss improved from 0.28922 to 0.28759, saving model to FMNIST_Weight.h5\n",
            "83/83 [==============================] - 1s 17ms/step - loss: 0.2876 - accuracy: 0.8934 - val_loss: 0.2960 - val_accuracy: 0.8918\n",
            "Epoch 22/100\n",
            "81/83 [============================>.] - ETA: 0s - loss: 0.2771 - accuracy: 0.8990\n",
            "Epoch 00022: loss improved from 0.28759 to 0.27644, saving model to FMNIST_Weight.h5\n",
            "83/83 [==============================] - 1s 16ms/step - loss: 0.2764 - accuracy: 0.8992 - val_loss: 0.3026 - val_accuracy: 0.8898\n",
            "Epoch 23/100\n",
            "81/83 [============================>.] - ETA: 0s - loss: 0.2731 - accuracy: 0.8985\n",
            "Epoch 00023: loss improved from 0.27644 to 0.27289, saving model to FMNIST_Weight.h5\n",
            "83/83 [==============================] - 1s 17ms/step - loss: 0.2729 - accuracy: 0.8987 - val_loss: 0.2963 - val_accuracy: 0.8933\n",
            "Epoch 24/100\n",
            "81/83 [============================>.] - ETA: 0s - loss: 0.2722 - accuracy: 0.8981\n",
            "Epoch 00024: loss improved from 0.27289 to 0.27210, saving model to FMNIST_Weight.h5\n",
            "83/83 [==============================] - 1s 16ms/step - loss: 0.2721 - accuracy: 0.8983 - val_loss: 0.2865 - val_accuracy: 0.8961\n",
            "Epoch 25/100\n",
            "81/83 [============================>.] - ETA: 0s - loss: 0.2604 - accuracy: 0.9035\n",
            "Epoch 00025: loss improved from 0.27210 to 0.26095, saving model to FMNIST_Weight.h5\n",
            "83/83 [==============================] - 1s 18ms/step - loss: 0.2610 - accuracy: 0.9034 - val_loss: 0.2841 - val_accuracy: 0.8962\n",
            "Epoch 26/100\n",
            "81/83 [============================>.] - ETA: 0s - loss: 0.2617 - accuracy: 0.9039\n",
            "Epoch 00026: loss did not improve from 0.26095\n",
            "83/83 [==============================] - 1s 16ms/step - loss: 0.2615 - accuracy: 0.9040 - val_loss: 0.3035 - val_accuracy: 0.8885\n",
            "Epoch 27/100\n",
            "81/83 [============================>.] - ETA: 0s - loss: 0.2583 - accuracy: 0.9048\n",
            "Epoch 00027: loss improved from 0.26095 to 0.25831, saving model to FMNIST_Weight.h5\n",
            "83/83 [==============================] - 1s 16ms/step - loss: 0.2583 - accuracy: 0.9048 - val_loss: 0.2851 - val_accuracy: 0.8958\n",
            "Epoch 28/100\n",
            "81/83 [============================>.] - ETA: 0s - loss: 0.2524 - accuracy: 0.9059\n",
            "Epoch 00028: loss improved from 0.25831 to 0.25278, saving model to FMNIST_Weight.h5\n",
            "83/83 [==============================] - 1s 16ms/step - loss: 0.2528 - accuracy: 0.9059 - val_loss: 0.2794 - val_accuracy: 0.8979\n",
            "Epoch 29/100\n",
            "82/83 [============================>.] - ETA: 0s - loss: 0.2511 - accuracy: 0.9071\n",
            "Epoch 00029: loss improved from 0.25278 to 0.25118, saving model to FMNIST_Weight.h5\n",
            "83/83 [==============================] - 1s 16ms/step - loss: 0.2512 - accuracy: 0.9071 - val_loss: 0.2837 - val_accuracy: 0.8979\n",
            "Epoch 30/100\n",
            "81/83 [============================>.] - ETA: 0s - loss: 0.2513 - accuracy: 0.9062\n",
            "Epoch 00030: loss improved from 0.25118 to 0.25077, saving model to FMNIST_Weight.h5\n",
            "83/83 [==============================] - 1s 18ms/step - loss: 0.2508 - accuracy: 0.9065 - val_loss: 0.2788 - val_accuracy: 0.8988\n",
            "Epoch 31/100\n",
            "81/83 [============================>.] - ETA: 0s - loss: 0.2443 - accuracy: 0.9107\n",
            "Epoch 00031: loss improved from 0.25077 to 0.24490, saving model to FMNIST_Weight.h5\n",
            "83/83 [==============================] - 1s 16ms/step - loss: 0.2449 - accuracy: 0.9104 - val_loss: 0.2728 - val_accuracy: 0.9011\n",
            "Epoch 32/100\n",
            "81/83 [============================>.] - ETA: 0s - loss: 0.2420 - accuracy: 0.9108\n",
            "Epoch 00032: loss improved from 0.24490 to 0.24302, saving model to FMNIST_Weight.h5\n",
            "83/83 [==============================] - 1s 16ms/step - loss: 0.2430 - accuracy: 0.9102 - val_loss: 0.2829 - val_accuracy: 0.8966\n",
            "Epoch 33/100\n",
            "81/83 [============================>.] - ETA: 0s - loss: 0.2504 - accuracy: 0.9071\n",
            "Epoch 00033: loss did not improve from 0.24302\n",
            "83/83 [==============================] - 1s 17ms/step - loss: 0.2502 - accuracy: 0.9071 - val_loss: 0.2759 - val_accuracy: 0.9017\n",
            "Epoch 34/100\n",
            "81/83 [============================>.] - ETA: 0s - loss: 0.2391 - accuracy: 0.9104\n",
            "Epoch 00034: loss improved from 0.24302 to 0.23895, saving model to FMNIST_Weight.h5\n",
            "83/83 [==============================] - 1s 16ms/step - loss: 0.2390 - accuracy: 0.9104 - val_loss: 0.2883 - val_accuracy: 0.8944\n",
            "Epoch 35/100\n",
            "81/83 [============================>.] - ETA: 0s - loss: 0.2356 - accuracy: 0.9117\n",
            "Epoch 00035: loss improved from 0.23895 to 0.23602, saving model to FMNIST_Weight.h5\n",
            "83/83 [==============================] - 1s 16ms/step - loss: 0.2360 - accuracy: 0.9116 - val_loss: 0.2728 - val_accuracy: 0.9011\n",
            "Epoch 36/100\n",
            "81/83 [============================>.] - ETA: 0s - loss: 0.2294 - accuracy: 0.9163\n",
            "Epoch 00036: loss improved from 0.23602 to 0.22978, saving model to FMNIST_Weight.h5\n",
            "83/83 [==============================] - 1s 16ms/step - loss: 0.2298 - accuracy: 0.9161 - val_loss: 0.2786 - val_accuracy: 0.9002\n",
            "Epoch 37/100\n",
            "81/83 [============================>.] - ETA: 0s - loss: 0.2349 - accuracy: 0.9123\n",
            "Epoch 00037: loss did not improve from 0.22978\n",
            "83/83 [==============================] - 1s 16ms/step - loss: 0.2344 - accuracy: 0.9126 - val_loss: 0.2948 - val_accuracy: 0.8954\n",
            "Epoch 38/100\n",
            "81/83 [============================>.] - ETA: 0s - loss: 0.2286 - accuracy: 0.9143\n",
            "Epoch 00038: loss improved from 0.22978 to 0.22900, saving model to FMNIST_Weight.h5\n",
            "83/83 [==============================] - 1s 16ms/step - loss: 0.2290 - accuracy: 0.9141 - val_loss: 0.2796 - val_accuracy: 0.9027\n",
            "Epoch 39/100\n",
            "81/83 [============================>.] - ETA: 0s - loss: 0.2353 - accuracy: 0.9132\n",
            "Epoch 00039: loss did not improve from 0.22900\n",
            "83/83 [==============================] - 1s 17ms/step - loss: 0.2347 - accuracy: 0.9134 - val_loss: 0.2678 - val_accuracy: 0.9066\n",
            "Epoch 40/100\n",
            "81/83 [============================>.] - ETA: 0s - loss: 0.2232 - accuracy: 0.9179\n",
            "Epoch 00040: loss improved from 0.22900 to 0.22298, saving model to FMNIST_Weight.h5\n",
            "83/83 [==============================] - 1s 16ms/step - loss: 0.2230 - accuracy: 0.9179 - val_loss: 0.2695 - val_accuracy: 0.9042\n",
            "Epoch 41/100\n",
            "81/83 [============================>.] - ETA: 0s - loss: 0.2284 - accuracy: 0.9148\n",
            "Epoch 00041: loss did not improve from 0.22298\n",
            "83/83 [==============================] - 1s 17ms/step - loss: 0.2280 - accuracy: 0.9149 - val_loss: 0.2742 - val_accuracy: 0.9029\n",
            "Epoch 42/100\n",
            "81/83 [============================>.] - ETA: 0s - loss: 0.2182 - accuracy: 0.9196\n",
            "Epoch 00042: loss improved from 0.22298 to 0.21744, saving model to FMNIST_Weight.h5\n",
            "83/83 [==============================] - 1s 16ms/step - loss: 0.2174 - accuracy: 0.9200 - val_loss: 0.2663 - val_accuracy: 0.9069\n",
            "Epoch 43/100\n",
            "81/83 [============================>.] - ETA: 0s - loss: 0.2177 - accuracy: 0.9200\n",
            "Epoch 00043: loss did not improve from 0.21744\n",
            "83/83 [==============================] - 1s 17ms/step - loss: 0.2175 - accuracy: 0.9201 - val_loss: 0.2986 - val_accuracy: 0.8935\n",
            "Epoch 44/100\n",
            "81/83 [============================>.] - ETA: 0s - loss: 0.2187 - accuracy: 0.9182\n",
            "Epoch 00044: loss did not improve from 0.21744\n",
            "83/83 [==============================] - 1s 16ms/step - loss: 0.2189 - accuracy: 0.9182 - val_loss: 0.2820 - val_accuracy: 0.9016\n",
            "Epoch 45/100\n",
            "81/83 [============================>.] - ETA: 0s - loss: 0.2212 - accuracy: 0.9172\n",
            "Epoch 00045: loss did not improve from 0.21744\n",
            "83/83 [==============================] - 1s 16ms/step - loss: 0.2210 - accuracy: 0.9173 - val_loss: 0.2725 - val_accuracy: 0.9043\n",
            "Epoch 46/100\n",
            "81/83 [============================>.] - ETA: 0s - loss: 0.2095 - accuracy: 0.9220\n",
            "Epoch 00046: loss improved from 0.21744 to 0.20955, saving model to FMNIST_Weight.h5\n",
            "83/83 [==============================] - 1s 17ms/step - loss: 0.2095 - accuracy: 0.9220 - val_loss: 0.2662 - val_accuracy: 0.9053\n",
            "Epoch 47/100\n",
            "81/83 [============================>.] - ETA: 0s - loss: 0.2078 - accuracy: 0.9226\n",
            "Epoch 00047: loss improved from 0.20955 to 0.20827, saving model to FMNIST_Weight.h5\n",
            "83/83 [==============================] - 1s 18ms/step - loss: 0.2083 - accuracy: 0.9226 - val_loss: 0.2637 - val_accuracy: 0.9081\n",
            "Epoch 48/100\n",
            "81/83 [============================>.] - ETA: 0s - loss: 0.2070 - accuracy: 0.9222\n",
            "Epoch 00048: loss improved from 0.20827 to 0.20709, saving model to FMNIST_Weight.h5\n",
            "83/83 [==============================] - 1s 18ms/step - loss: 0.2071 - accuracy: 0.9223 - val_loss: 0.2642 - val_accuracy: 0.9058\n",
            "Epoch 49/100\n",
            "81/83 [============================>.] - ETA: 0s - loss: 0.2067 - accuracy: 0.9221\n",
            "Epoch 00049: loss improved from 0.20709 to 0.20677, saving model to FMNIST_Weight.h5\n",
            "83/83 [==============================] - 1s 16ms/step - loss: 0.2068 - accuracy: 0.9222 - val_loss: 0.2706 - val_accuracy: 0.9056\n",
            "Epoch 50/100\n",
            "81/83 [============================>.] - ETA: 0s - loss: 0.2050 - accuracy: 0.9235\n",
            "Epoch 00050: loss improved from 0.20677 to 0.20539, saving model to FMNIST_Weight.h5\n",
            "83/83 [==============================] - 1s 16ms/step - loss: 0.2054 - accuracy: 0.9233 - val_loss: 0.2786 - val_accuracy: 0.9024\n",
            "Epoch 51/100\n",
            "81/83 [============================>.] - ETA: 0s - loss: 0.2042 - accuracy: 0.9232\n",
            "Epoch 00051: loss improved from 0.20539 to 0.20426, saving model to FMNIST_Weight.h5\n",
            "83/83 [==============================] - 1s 18ms/step - loss: 0.2043 - accuracy: 0.9232 - val_loss: 0.2695 - val_accuracy: 0.9059\n",
            "Epoch 52/100\n",
            "81/83 [============================>.] - ETA: 0s - loss: 0.1974 - accuracy: 0.9270\n",
            "Epoch 00052: loss improved from 0.20426 to 0.19743, saving model to FMNIST_Weight.h5\n",
            "83/83 [==============================] - 1s 17ms/step - loss: 0.1974 - accuracy: 0.9270 - val_loss: 0.2680 - val_accuracy: 0.9065\n",
            "Epoch 53/100\n",
            "81/83 [============================>.] - ETA: 0s - loss: 0.1989 - accuracy: 0.9248\n",
            "Epoch 00053: loss did not improve from 0.19743\n",
            "83/83 [==============================] - 1s 17ms/step - loss: 0.1983 - accuracy: 0.9250 - val_loss: 0.2666 - val_accuracy: 0.9076\n",
            "Epoch 54/100\n",
            "81/83 [============================>.] - ETA: 0s - loss: 0.1963 - accuracy: 0.9273\n",
            "Epoch 00054: loss improved from 0.19743 to 0.19652, saving model to FMNIST_Weight.h5\n",
            "83/83 [==============================] - 1s 18ms/step - loss: 0.1965 - accuracy: 0.9272 - val_loss: 0.2666 - val_accuracy: 0.9066\n",
            "Epoch 55/100\n",
            "81/83 [============================>.] - ETA: 0s - loss: 0.1884 - accuracy: 0.9297\n",
            "Epoch 00055: loss improved from 0.19652 to 0.18846, saving model to FMNIST_Weight.h5\n",
            "83/83 [==============================] - 1s 17ms/step - loss: 0.1885 - accuracy: 0.9295 - val_loss: 0.2703 - val_accuracy: 0.9080\n",
            "Epoch 56/100\n",
            "81/83 [============================>.] - ETA: 0s - loss: 0.1951 - accuracy: 0.9274\n",
            "Epoch 00056: loss did not improve from 0.18846\n",
            "83/83 [==============================] - 1s 17ms/step - loss: 0.1955 - accuracy: 0.9274 - val_loss: 0.2736 - val_accuracy: 0.9033\n",
            "Epoch 57/100\n",
            "81/83 [============================>.] - ETA: 0s - loss: 0.2008 - accuracy: 0.9246\n",
            "Epoch 00057: loss did not improve from 0.18846\n",
            "83/83 [==============================] - 1s 16ms/step - loss: 0.2009 - accuracy: 0.9245 - val_loss: 0.2641 - val_accuracy: 0.9083\n",
            "Epoch 58/100\n",
            "81/83 [============================>.] - ETA: 0s - loss: 0.1896 - accuracy: 0.9290\n",
            "Epoch 00058: loss did not improve from 0.18846\n",
            "83/83 [==============================] - 1s 17ms/step - loss: 0.1897 - accuracy: 0.9290 - val_loss: 0.2690 - val_accuracy: 0.9079\n",
            "Epoch 59/100\n",
            "81/83 [============================>.] - ETA: 0s - loss: 0.1850 - accuracy: 0.9307\n",
            "Epoch 00059: loss improved from 0.18846 to 0.18463, saving model to FMNIST_Weight.h5\n",
            "83/83 [==============================] - 1s 16ms/step - loss: 0.1846 - accuracy: 0.9309 - val_loss: 0.2699 - val_accuracy: 0.9104\n",
            "Epoch 60/100\n",
            "81/83 [============================>.] - ETA: 0s - loss: 0.1792 - accuracy: 0.9333\n",
            "Epoch 00060: loss improved from 0.18463 to 0.17918, saving model to FMNIST_Weight.h5\n",
            "83/83 [==============================] - 1s 18ms/step - loss: 0.1792 - accuracy: 0.9333 - val_loss: 0.3002 - val_accuracy: 0.8972\n",
            "Epoch 61/100\n",
            "81/83 [============================>.] - ETA: 0s - loss: 0.1838 - accuracy: 0.9313\n",
            "Epoch 00061: loss did not improve from 0.17918\n",
            "83/83 [==============================] - 1s 17ms/step - loss: 0.1844 - accuracy: 0.9311 - val_loss: 0.2729 - val_accuracy: 0.9065\n",
            "Epoch 62/100\n",
            "81/83 [============================>.] - ETA: 0s - loss: 0.1842 - accuracy: 0.9310\n",
            "Epoch 00062: loss did not improve from 0.17918\n",
            "83/83 [==============================] - 1s 16ms/step - loss: 0.1840 - accuracy: 0.9311 - val_loss: 0.2696 - val_accuracy: 0.9093\n",
            "Epoch 63/100\n",
            "81/83 [============================>.] - ETA: 0s - loss: 0.1735 - accuracy: 0.9354\n",
            "Epoch 00063: loss improved from 0.17918 to 0.17358, saving model to FMNIST_Weight.h5\n",
            "83/83 [==============================] - 1s 17ms/step - loss: 0.1736 - accuracy: 0.9354 - val_loss: 0.2708 - val_accuracy: 0.9089\n",
            "Epoch 64/100\n",
            "81/83 [============================>.] - ETA: 0s - loss: 0.1776 - accuracy: 0.9330\n",
            "Epoch 00064: loss did not improve from 0.17358\n",
            "83/83 [==============================] - 1s 16ms/step - loss: 0.1778 - accuracy: 0.9330 - val_loss: 0.2813 - val_accuracy: 0.9065\n",
            "Epoch 65/100\n",
            "81/83 [============================>.] - ETA: 0s - loss: 0.1769 - accuracy: 0.9339\n",
            "Epoch 00065: loss did not improve from 0.17358\n",
            "83/83 [==============================] - 1s 17ms/step - loss: 0.1768 - accuracy: 0.9339 - val_loss: 0.2737 - val_accuracy: 0.9077\n",
            "Epoch 66/100\n",
            "81/83 [============================>.] - ETA: 0s - loss: 0.1760 - accuracy: 0.9334\n",
            "Epoch 00066: loss did not improve from 0.17358\n",
            "83/83 [==============================] - 1s 16ms/step - loss: 0.1764 - accuracy: 0.9332 - val_loss: 0.2677 - val_accuracy: 0.9107\n",
            "Epoch 67/100\n",
            "81/83 [============================>.] - ETA: 0s - loss: 0.1755 - accuracy: 0.9347\n",
            "Epoch 00067: loss did not improve from 0.17358\n",
            "83/83 [==============================] - 1s 17ms/step - loss: 0.1752 - accuracy: 0.9348 - val_loss: 0.2733 - val_accuracy: 0.9087\n",
            "Epoch 68/100\n",
            "81/83 [============================>.] - ETA: 0s - loss: 0.1676 - accuracy: 0.9367\n",
            "Epoch 00068: loss improved from 0.17358 to 0.16737, saving model to FMNIST_Weight.h5\n",
            "83/83 [==============================] - 1s 16ms/step - loss: 0.1674 - accuracy: 0.9367 - val_loss: 0.2736 - val_accuracy: 0.9114\n",
            "Epoch 69/100\n",
            "81/83 [============================>.] - ETA: 0s - loss: 0.1669 - accuracy: 0.9372\n",
            "Epoch 00069: loss improved from 0.16737 to 0.16691, saving model to FMNIST_Weight.h5\n",
            "83/83 [==============================] - 1s 16ms/step - loss: 0.1669 - accuracy: 0.9372 - val_loss: 0.2735 - val_accuracy: 0.9083\n",
            "Epoch 70/100\n",
            "81/83 [============================>.] - ETA: 0s - loss: 0.1627 - accuracy: 0.9391\n",
            "Epoch 00070: loss improved from 0.16691 to 0.16259, saving model to FMNIST_Weight.h5\n",
            "83/83 [==============================] - 1s 18ms/step - loss: 0.1626 - accuracy: 0.9392 - val_loss: 0.2779 - val_accuracy: 0.9103\n",
            "Epoch 71/100\n",
            "81/83 [============================>.] - ETA: 0s - loss: 0.1665 - accuracy: 0.9372\n",
            "Epoch 00071: loss did not improve from 0.16259\n",
            "83/83 [==============================] - 1s 16ms/step - loss: 0.1665 - accuracy: 0.9373 - val_loss: 0.2847 - val_accuracy: 0.9076\n",
            "Epoch 72/100\n",
            "81/83 [============================>.] - ETA: 0s - loss: 0.1768 - accuracy: 0.9328\n",
            "Epoch 00072: loss did not improve from 0.16259\n",
            "83/83 [==============================] - 1s 16ms/step - loss: 0.1770 - accuracy: 0.9329 - val_loss: 0.2708 - val_accuracy: 0.9102\n",
            "Epoch 73/100\n",
            "81/83 [============================>.] - ETA: 0s - loss: 0.1565 - accuracy: 0.9412\n",
            "Epoch 00073: loss improved from 0.16259 to 0.15628, saving model to FMNIST_Weight.h5\n",
            "83/83 [==============================] - 1s 18ms/step - loss: 0.1563 - accuracy: 0.9413 - val_loss: 0.2714 - val_accuracy: 0.9106\n",
            "Epoch 74/100\n",
            "81/83 [============================>.] - ETA: 0s - loss: 0.1628 - accuracy: 0.9390\n",
            "Epoch 00074: loss did not improve from 0.15628\n",
            "83/83 [==============================] - 1s 16ms/step - loss: 0.1621 - accuracy: 0.9393 - val_loss: 0.2834 - val_accuracy: 0.9043\n",
            "Epoch 75/100\n",
            "81/83 [============================>.] - ETA: 0s - loss: 0.1574 - accuracy: 0.9405\n",
            "Epoch 00075: loss did not improve from 0.15628\n",
            "83/83 [==============================] - 1s 16ms/step - loss: 0.1576 - accuracy: 0.9403 - val_loss: 0.2861 - val_accuracy: 0.9082\n",
            "Epoch 76/100\n",
            "81/83 [============================>.] - ETA: 0s - loss: 0.1569 - accuracy: 0.9395\n",
            "Epoch 00076: loss did not improve from 0.15628\n",
            "83/83 [==============================] - 1s 16ms/step - loss: 0.1573 - accuracy: 0.9395 - val_loss: 0.2917 - val_accuracy: 0.9062\n",
            "Epoch 77/100\n",
            "81/83 [============================>.] - ETA: 0s - loss: 0.1652 - accuracy: 0.9367\n",
            "Epoch 00077: loss did not improve from 0.15628\n",
            "83/83 [==============================] - 1s 16ms/step - loss: 0.1646 - accuracy: 0.9370 - val_loss: 0.2904 - val_accuracy: 0.9062\n",
            "Epoch 78/100\n",
            "81/83 [============================>.] - ETA: 0s - loss: 0.1538 - accuracy: 0.9421\n",
            "Epoch 00078: loss improved from 0.15628 to 0.15381, saving model to FMNIST_Weight.h5\n",
            "83/83 [==============================] - 1s 18ms/step - loss: 0.1538 - accuracy: 0.9420 - val_loss: 0.2874 - val_accuracy: 0.9081\n",
            "Epoch 79/100\n",
            "81/83 [============================>.] - ETA: 0s - loss: 0.1612 - accuracy: 0.9398\n",
            "Epoch 00079: loss did not improve from 0.15381\n",
            "83/83 [==============================] - 1s 16ms/step - loss: 0.1611 - accuracy: 0.9399 - val_loss: 0.2748 - val_accuracy: 0.9098\n",
            "Epoch 80/100\n",
            "81/83 [============================>.] - ETA: 0s - loss: 0.1510 - accuracy: 0.9432\n",
            "Epoch 00080: loss improved from 0.15381 to 0.15049, saving model to FMNIST_Weight.h5\n",
            "83/83 [==============================] - 1s 17ms/step - loss: 0.1505 - accuracy: 0.9435 - val_loss: 0.2831 - val_accuracy: 0.9085\n",
            "Epoch 81/100\n",
            "81/83 [============================>.] - ETA: 0s - loss: 0.1495 - accuracy: 0.9436\n",
            "Epoch 00081: loss improved from 0.15049 to 0.14920, saving model to FMNIST_Weight.h5\n",
            "83/83 [==============================] - 1s 16ms/step - loss: 0.1492 - accuracy: 0.9437 - val_loss: 0.2829 - val_accuracy: 0.9103\n",
            "Epoch 82/100\n",
            "81/83 [============================>.] - ETA: 0s - loss: 0.1483 - accuracy: 0.9434\n",
            "Epoch 00082: loss improved from 0.14920 to 0.14827, saving model to FMNIST_Weight.h5\n",
            "83/83 [==============================] - 1s 18ms/step - loss: 0.1483 - accuracy: 0.9434 - val_loss: 0.2845 - val_accuracy: 0.9109\n",
            "Epoch 83/100\n",
            "81/83 [============================>.] - ETA: 0s - loss: 0.1491 - accuracy: 0.9438\n",
            "Epoch 00083: loss did not improve from 0.14827\n",
            "83/83 [==============================] - 1s 16ms/step - loss: 0.1489 - accuracy: 0.9439 - val_loss: 0.2864 - val_accuracy: 0.9081\n",
            "Epoch 84/100\n",
            "81/83 [============================>.] - ETA: 0s - loss: 0.1483 - accuracy: 0.9435\n",
            "Epoch 00084: loss did not improve from 0.14827\n",
            "83/83 [==============================] - 1s 16ms/step - loss: 0.1486 - accuracy: 0.9435 - val_loss: 0.3011 - val_accuracy: 0.9101\n",
            "Epoch 85/100\n",
            "81/83 [============================>.] - ETA: 0s - loss: 0.1512 - accuracy: 0.9423\n",
            "Epoch 00085: loss did not improve from 0.14827\n",
            "83/83 [==============================] - 1s 17ms/step - loss: 0.1508 - accuracy: 0.9425 - val_loss: 0.2807 - val_accuracy: 0.9102\n",
            "Epoch 86/100\n",
            "81/83 [============================>.] - ETA: 0s - loss: 0.1424 - accuracy: 0.9452\n",
            "Epoch 00086: loss improved from 0.14827 to 0.14254, saving model to FMNIST_Weight.h5\n",
            "83/83 [==============================] - 1s 18ms/step - loss: 0.1425 - accuracy: 0.9451 - val_loss: 0.2961 - val_accuracy: 0.9068\n",
            "Epoch 87/100\n",
            "81/83 [============================>.] - ETA: 0s - loss: 0.1458 - accuracy: 0.9456\n",
            "Epoch 00087: loss did not improve from 0.14254\n",
            "83/83 [==============================] - 1s 16ms/step - loss: 0.1451 - accuracy: 0.9458 - val_loss: 0.3129 - val_accuracy: 0.9028\n",
            "Epoch 88/100\n",
            "81/83 [============================>.] - ETA: 0s - loss: 0.1512 - accuracy: 0.9418\n",
            "Epoch 00088: loss did not improve from 0.14254\n",
            "83/83 [==============================] - 1s 16ms/step - loss: 0.1512 - accuracy: 0.9420 - val_loss: 0.2935 - val_accuracy: 0.9093\n",
            "Epoch 89/100\n",
            "81/83 [============================>.] - ETA: 0s - loss: 0.1391 - accuracy: 0.9477\n",
            "Epoch 00089: loss improved from 0.14254 to 0.13896, saving model to FMNIST_Weight.h5\n",
            "83/83 [==============================] - 1s 18ms/step - loss: 0.1390 - accuracy: 0.9478 - val_loss: 0.2915 - val_accuracy: 0.9095\n",
            "Epoch 90/100\n",
            "81/83 [============================>.] - ETA: 0s - loss: 0.1504 - accuracy: 0.9426\n",
            "Epoch 00090: loss did not improve from 0.13896\n",
            "83/83 [==============================] - 1s 17ms/step - loss: 0.1505 - accuracy: 0.9425 - val_loss: 0.2874 - val_accuracy: 0.9081\n",
            "Epoch 91/100\n",
            "81/83 [============================>.] - ETA: 0s - loss: 0.1394 - accuracy: 0.9474\n",
            "Epoch 00091: loss did not improve from 0.13896\n",
            "83/83 [==============================] - 1s 16ms/step - loss: 0.1395 - accuracy: 0.9472 - val_loss: 0.3040 - val_accuracy: 0.9074\n",
            "Epoch 92/100\n",
            "81/83 [============================>.] - ETA: 0s - loss: 0.1464 - accuracy: 0.9449\n",
            "Epoch 00092: loss did not improve from 0.13896\n",
            "83/83 [==============================] - 1s 16ms/step - loss: 0.1460 - accuracy: 0.9451 - val_loss: 0.2895 - val_accuracy: 0.9113\n",
            "Epoch 93/100\n",
            "81/83 [============================>.] - ETA: 0s - loss: 0.1361 - accuracy: 0.9494\n",
            "Epoch 00093: loss improved from 0.13896 to 0.13647, saving model to FMNIST_Weight.h5\n",
            "83/83 [==============================] - 1s 16ms/step - loss: 0.1365 - accuracy: 0.9491 - val_loss: 0.3018 - val_accuracy: 0.9082\n",
            "Epoch 94/100\n",
            "81/83 [============================>.] - ETA: 0s - loss: 0.1512 - accuracy: 0.9432\n",
            "Epoch 00094: loss did not improve from 0.13647\n",
            "83/83 [==============================] - 1s 16ms/step - loss: 0.1514 - accuracy: 0.9431 - val_loss: 0.3086 - val_accuracy: 0.9091\n",
            "Epoch 95/100\n",
            "81/83 [============================>.] - ETA: 0s - loss: 0.1366 - accuracy: 0.9481\n",
            "Epoch 00095: loss improved from 0.13647 to 0.13632, saving model to FMNIST_Weight.h5\n",
            "83/83 [==============================] - 1s 18ms/step - loss: 0.1363 - accuracy: 0.9482 - val_loss: 0.3023 - val_accuracy: 0.9066\n",
            "Epoch 96/100\n",
            "81/83 [============================>.] - ETA: 0s - loss: 0.1556 - accuracy: 0.9412\n",
            "Epoch 00096: loss did not improve from 0.13632\n",
            "83/83 [==============================] - 1s 16ms/step - loss: 0.1554 - accuracy: 0.9412 - val_loss: 0.3019 - val_accuracy: 0.9078\n",
            "Epoch 97/100\n",
            "81/83 [============================>.] - ETA: 0s - loss: 0.1427 - accuracy: 0.9462\n",
            "Epoch 00097: loss did not improve from 0.13632\n",
            "83/83 [==============================] - 1s 16ms/step - loss: 0.1424 - accuracy: 0.9462 - val_loss: 0.3036 - val_accuracy: 0.9082\n",
            "Epoch 98/100\n",
            "81/83 [============================>.] - ETA: 0s - loss: 0.1331 - accuracy: 0.9488\n",
            "Epoch 00098: loss improved from 0.13632 to 0.13349, saving model to FMNIST_Weight.h5\n",
            "83/83 [==============================] - 1s 18ms/step - loss: 0.1335 - accuracy: 0.9488 - val_loss: 0.3066 - val_accuracy: 0.9064\n",
            "Epoch 99/100\n",
            "81/83 [============================>.] - ETA: 0s - loss: 0.1344 - accuracy: 0.9491\n",
            "Epoch 00099: loss did not improve from 0.13349\n",
            "83/83 [==============================] - 1s 16ms/step - loss: 0.1341 - accuracy: 0.9491 - val_loss: 0.2997 - val_accuracy: 0.9086\n",
            "Epoch 100/100\n",
            "81/83 [============================>.] - ETA: 0s - loss: 0.1313 - accuracy: 0.9500\n",
            "Epoch 00100: loss improved from 0.13349 to 0.13068, saving model to FMNIST_Weight.h5\n",
            "83/83 [==============================] - 1s 18ms/step - loss: 0.1307 - accuracy: 0.9503 - val_loss: 0.3050 - val_accuracy: 0.9098\n"
          ]
        }
      ]
    },
    {
      "cell_type": "code",
      "source": [
        "import os.path\n",
        "if os.path.isfile(\"/content/FMNIST_Weight.h5\") is False:\n",
        "    model.save_weights(\"/content/FMNIST_Weight.h5\")"
      ],
      "metadata": {
        "id": "vK19dQQdmM0_"
      },
      "execution_count": 20,
      "outputs": []
    },
    {
      "cell_type": "code",
      "source": [
        "test_loss, test_acc = model.evaluate(x_testr, y_test)\n",
        "print(\"Loss: \", test_loss)\n",
        "print(\"Accuracy: \", test_acc)"
      ],
      "metadata": {
        "id": "3G4fZFzHpiH7",
        "colab": {
          "base_uri": "https://localhost:8080/"
        },
        "outputId": "2f29974b-a667-44c0-b364-a984974e27b3"
      },
      "execution_count": 21,
      "outputs": [
        {
          "output_type": "stream",
          "name": "stdout",
          "text": [
            "313/313 [==============================] - 1s 2ms/step - loss: 0.3191 - accuracy: 0.9054\n",
            "Loss:  0.3191052973270416\n",
            "Accuracy:  0.9053999781608582\n"
          ]
        }
      ]
    },
    {
      "cell_type": "code",
      "source": [
        "predictions = model.predict([x_testr])"
      ],
      "metadata": {
        "id": "YWBp7gf1qJ0T"
      },
      "execution_count": 22,
      "outputs": []
    },
    {
      "cell_type": "code",
      "source": [
        "print(predictions)"
      ],
      "metadata": {
        "id": "_hjuJSdZqT_D",
        "colab": {
          "base_uri": "https://localhost:8080/"
        },
        "outputId": "95bad279-17af-42b1-864d-10327ab56b55"
      },
      "execution_count": 23,
      "outputs": [
        {
          "output_type": "stream",
          "name": "stdout",
          "text": [
            "[[6.33567157e-11 5.41424327e-13 2.98562286e-10 ... 3.34859624e-06\n",
            "  2.53699123e-12 9.99996662e-01]\n",
            " [7.25159308e-11 1.79561100e-22 9.99998808e-01 ... 2.37812415e-24\n",
            "  3.71594243e-15 3.57003010e-23]\n",
            " [6.18690670e-19 1.00000000e+00 2.07815865e-25 ... 1.47642933e-28\n",
            "  1.05599965e-25 2.94077177e-27]\n",
            " ...\n",
            " [4.85646289e-12 7.21230174e-15 5.09109729e-14 ... 3.17227364e-13\n",
            "  1.00000000e+00 2.00905644e-17]\n",
            " [1.15037035e-10 1.00000000e+00 1.62806698e-13 ... 3.97043518e-15\n",
            "  5.28763409e-15 2.22555620e-15]\n",
            " [3.71262239e-08 3.03794455e-11 1.25323723e-07 ... 1.22356942e-04\n",
            "  1.66767973e-06 2.48970498e-08]]\n"
          ]
        }
      ]
    },
    {
      "cell_type": "code",
      "source": [
        "pred = np.argmax(predictions[1])"
      ],
      "metadata": {
        "id": "cmEYwegoqdFy"
      },
      "execution_count": 24,
      "outputs": []
    },
    {
      "cell_type": "code",
      "source": [
        "print(pred)"
      ],
      "metadata": {
        "id": "Q72ccZ9vql5F",
        "colab": {
          "base_uri": "https://localhost:8080/"
        },
        "outputId": "bf9b1376-16e7-4ace-88a2-10d42e809741"
      },
      "execution_count": 25,
      "outputs": [
        {
          "output_type": "stream",
          "name": "stdout",
          "text": [
            "2\n"
          ]
        }
      ]
    },
    {
      "cell_type": "code",
      "source": [
        "plt.imshow(x_test[101])"
      ],
      "metadata": {
        "id": "NhLVn9xrq9eP",
        "colab": {
          "base_uri": "https://localhost:8080/",
          "height": 282
        },
        "outputId": "68195b60-14db-485f-b5ff-7bb2280b0aea"
      },
      "execution_count": 26,
      "outputs": [
        {
          "output_type": "execute_result",
          "data": {
            "text/plain": [
              "<matplotlib.image.AxesImage at 0x7f9b4a4a3f10>"
            ]
          },
          "metadata": {},
          "execution_count": 26
        },
        {
          "output_type": "display_data",
          "data": {
            "image/png": "[encoded data removed]",
            "text/plain": [
              "<Figure size 432x288 with 1 Axes>"
            ]
          },
          "metadata": {
            "needs_background": "light"
          }
        }
      ]
    },
    {
      "cell_type": "code",
      "source": [
        "image_class = {}\n",
        "image_class[0] = 'T-shirt/top'\n",
        "image_class[1] = 'Trouser'\n",
        "image_class[2] = 'Pullover'\n",
        "image_class[3] = 'Dress'\n",
        "image_class[4] = 'Coat'\n",
        "image_class[5] = 'Sandal'\n",
        "image_class[6] = 'Shirt'\n",
        "image_class[7] = 'Sneaker'\n",
        "image_class[8] = 'Bag'\n",
        "image_class[9] = 'Ankle boot'"
      ],
      "metadata": {
        "id": "h07qURRf_vOd"
      },
      "execution_count": 27,
      "outputs": []
    },
    {
      "cell_type": "code",
      "source": [
        "from PIL import Image\n",
        "\n",
        "# for i in range(10):\n",
        "demo_image = \"/content/drive/MyDrive/University/12th Semester/CSI 416 [Pattern Recognition Lab]/Project/raw_images/fashion/bag.jpg\"\n",
        "img = Image.open(demo_image)\n",
        "\n",
        "\n",
        "img = img.resize((28, 28))\n",
        "imgGray = img.convert('L')\n",
        "imgGray.save('test_gray.jpg')\n",
        "\n",
        "image_array = np.array(imgGray)\n",
        "\n",
        "plt.imshow(imgGray, cmap=plt.get_cmap('gray'))\n",
        "plt.show()\n",
        "\n",
        "image_array = image_array/255\n",
        "\n",
        "new_img = np.array(image_array).reshape(1, 28, 28, 1)    # reshape for kerner operation\n",
        "\n",
        "test_pred = model.predict(new_img)\n",
        "\n",
        "predict_class = np.argmax(test_pred)\n",
        "print(\"Prediction: \", image_class[predict_class])"
      ],
      "metadata": {
        "id": "kH7Y6yeDxKuh",
        "colab": {
          "base_uri": "https://localhost:8080/",
          "height": 282
        },
        "outputId": "dffca37f-8d23-4c10-9cc6-45f1f0ebbebe"
      },
      "execution_count": 28,
      "outputs": [
        {
          "output_type": "display_data",
          "data": {
            "image/png": "[encoded data removed]",
            "text/plain": [
              "<Figure size 432x288 with 1 Axes>"
            ]
          },
          "metadata": {
            "needs_background": "light"
          }
        },
        {
          "output_type": "stream",
          "name": "stdout",
          "text": [
            "Prediction:  Bag\n"
          ]
        }
      ]
    },
    {
      "cell_type": "markdown",
      "source": [
        "```\n",
        "0 T-shirt/top\n",
        "1 Trouser\n",
        "2 Pullover\n",
        "3 Dress\n",
        "4 Coat\n",
        "5 Sandal\n",
        "6 Shirt\n",
        "7 Sneaker\n",
        "8 Bag\n",
        "9 Ankle boot\n",
        "```"
      ],
      "metadata": {
        "id": "RlyTtTSX0HZG"
      }
    },
    {
      "cell_type": "code",
      "source": [
        "print(len(test_pred[0]))\n",
        "for i in range(10):\n",
        "    print(f\"Similarity with {image_class[i]} is --> [{round(test_pred[0][i]*100, 4)} %]\")"
      ],
      "metadata": {
        "id": "K-uIHQ4XIPt6",
        "colab": {
          "base_uri": "https://localhost:8080/"
        },
        "outputId": "efe735b4-91ec-4047-91ca-edf6e3b1180b"
      },
      "execution_count": 29,
      "outputs": [
        {
          "output_type": "stream",
          "name": "stdout",
          "text": [
            "10\n",
            "Similarity with T-shirt/top is --> [0.5728 %]\n",
            "Similarity with Trouser is --> [0.0 %]\n",
            "Similarity with Pullover is --> [0.044 %]\n",
            "Similarity with Dress is --> [0.0191 %]\n",
            "Similarity with Coat is --> [0.0001 %]\n",
            "Similarity with Sandal is --> [0.0211 %]\n",
            "Similarity with Shirt is --> [0.0952 %]\n",
            "Similarity with Sneaker is --> [0.007 %]\n",
            "Similarity with Bag is --> [98.9009 %]\n",
            "Similarity with Ankle boot is --> [0.3397 %]\n"
          ]
        }
      ]
    },
    {
      "cell_type": "code",
      "source": [
        "import tensorflow as tf\n",
        "import numpy as np\n",
        "import matplotlib.pyplot as plt\n",
        "fashion_mnist = tf.keras.datasets.fashion_mnist\n",
        "(x_train, y_train), (x_test, y_test) = fashion_mnist.load_data()\n",
        "x_train = x_train/255\n",
        "x_test = x_test/255\n",
        "x_trainr = np.array(x_train).reshape(60000, 28, 28, 1)\n",
        "x_testr = np.array(x_test).reshape(10000, 28, 28, 1)"
      ],
      "metadata": {
        "id": "wqGMvFGS0IZA"
      },
      "execution_count": 30,
      "outputs": []
    },
    {
      "cell_type": "code",
      "source": [
        "from tensorflow.keras.models import Sequential\n",
        "from tensorflow.keras.layers import Dense, Activation, Flatten, Conv2D, MaxPooling2D, Dropout"
      ],
      "metadata": {
        "id": "MsZjkJolzeBf"
      },
      "execution_count": 31,
      "outputs": []
    },
    {
      "cell_type": "markdown",
      "source": [
        "# Use Model Explicitely"
      ],
      "metadata": {
        "id": "wN7sSDKsq6nu"
      }
    },
    {
      "cell_type": "code",
      "source": [
        "model2 = Sequential()"
      ],
      "metadata": {
        "id": "d5m81zChiysW"
      },
      "execution_count": 48,
      "outputs": []
    },
    {
      "cell_type": "code",
      "source": [
        "# 1st Layer\n",
        "model2.add(Conv2D(64, (3,3), input_shape = (28,28,1), activation='relu'))\n",
        "model2.add(MaxPooling2D(pool_size=(2,2)))\n",
        "# 2nd Layer\n",
        "# model2.add(Conv2D(32, (3,3), activation='relu'))\n",
        "# model2.add(MaxPooling2D(pool_size=(2,2)))\n",
        "model2.add(Dropout(rate=0.1))\n",
        "# 3rd Layer\n",
        "model2.add(Conv2D(16, (3,3), activation='relu'))\n",
        "model2.add(MaxPooling2D(pool_size=(2,2)))\n",
        "\n",
        "model2.add(Flatten())\n",
        "\n",
        "model2.add(Dense(64))\n",
        "model2.add(Activation('relu'))\n",
        "\n",
        "model2.add(Dropout(rate=0.1))\n",
        "\n",
        "model2.add(Dense(32))\n",
        "model2.add(Activation('relu'))\n",
        "\n",
        "model2.add(Dense(10))\n",
        "model2.add(Activation('softmax'))"
      ],
      "metadata": {
        "id": "9e08T3oajH62"
      },
      "execution_count": 49,
      "outputs": []
    },
    {
      "cell_type": "code",
      "source": [
        "model2.load_weights(\"/content/FMNIST_Weight.h5\")\n",
        "# model2.get_weights()"
      ],
      "metadata": {
        "id": "-Y6IVmW0jffo"
      },
      "execution_count": 50,
      "outputs": []
    },
    {
      "cell_type": "code",
      "source": [
        "model2.compile(optimizer=\"adam\", loss='sparse_categorical_crossentropy', metrics=['accuracy'])"
      ],
      "metadata": {
        "id": "rShZvcuGjfcQ"
      },
      "execution_count": 51,
      "outputs": []
    },
    {
      "cell_type": "code",
      "source": [
        "test2_loss, test2_acc = model2.evaluate(x_testr, y_test)\n",
        "print(\"Loss: \", test2_loss)\n",
        "print(\"Accuracy: \", test2_acc)"
      ],
      "metadata": {
        "id": "LF0p67TYjfZo",
        "colab": {
          "base_uri": "https://localhost:8080/"
        },
        "outputId": "f29fbea5-72d9-43fa-a18b-37a7068e1f8b"
      },
      "execution_count": 52,
      "outputs": [
        {
          "output_type": "stream",
          "name": "stdout",
          "text": [
            "313/313 [==============================] - 1s 3ms/step - loss: 0.3191 - accuracy: 0.9054\n",
            "Loss:  0.3191052973270416\n",
            "Accuracy:  0.9053999781608582\n"
          ]
        }
      ]
    },
    {
      "cell_type": "code",
      "source": [
        "predictions2 = model2.predict([x_testr])"
      ],
      "metadata": {
        "id": "O92oF03vjfXo"
      },
      "execution_count": 53,
      "outputs": []
    },
    {
      "cell_type": "code",
      "source": [
        "print(predictions2)"
      ],
      "metadata": {
        "id": "J0e3YPT1kSoc",
        "colab": {
          "base_uri": "https://localhost:8080/"
        },
        "outputId": "1b5f01a4-8cec-4085-d4cb-b7866f311d59"
      },
      "execution_count": 54,
      "outputs": [
        {
          "output_type": "stream",
          "name": "stdout",
          "text": [
            "[[6.33567157e-11 5.41424327e-13 2.98562286e-10 ... 3.34859624e-06\n",
            "  2.53699123e-12 9.99996662e-01]\n",
            " [7.25159308e-11 1.79561100e-22 9.99998808e-01 ... 2.37812415e-24\n",
            "  3.71594243e-15 3.57003010e-23]\n",
            " [6.18690670e-19 1.00000000e+00 2.07815865e-25 ... 1.47642933e-28\n",
            "  1.05599965e-25 2.94077177e-27]\n",
            " ...\n",
            " [4.85646289e-12 7.21230174e-15 5.09109729e-14 ... 3.17227364e-13\n",
            "  1.00000000e+00 2.00905644e-17]\n",
            " [1.15037035e-10 1.00000000e+00 1.62806698e-13 ... 3.97043518e-15\n",
            "  5.28763409e-15 2.22555620e-15]\n",
            " [3.71262239e-08 3.03794455e-11 1.25323723e-07 ... 1.22356942e-04\n",
            "  1.66767973e-06 2.48970498e-08]]\n"
          ]
        }
      ]
    },
    {
      "cell_type": "code",
      "source": [
        "pred2 = np.argmax(predictions2[101])\n",
        "print(pred2)"
      ],
      "metadata": {
        "id": "hl6qzDYekSlU",
        "colab": {
          "base_uri": "https://localhost:8080/"
        },
        "outputId": "87a6c992-6fd6-411d-b9e5-79a292145ddc"
      },
      "execution_count": 55,
      "outputs": [
        {
          "output_type": "stream",
          "name": "stdout",
          "text": [
            "6\n"
          ]
        }
      ]
    },
    {
      "cell_type": "code",
      "source": [
        "image_class = {}\n",
        "image_class[0] = 'T-shirt/top'\n",
        "image_class[1] = 'Trouser'\n",
        "image_class[2] = 'Pullover'\n",
        "image_class[3] = 'Dress'\n",
        "image_class[4] = 'Coat'\n",
        "image_class[5] = 'Sandal'\n",
        "image_class[6] = 'Shirt'\n",
        "image_class[7] = 'Sneaker'\n",
        "image_class[8] = 'Bag'\n",
        "image_class[9] = 'Ankle boot'"
      ],
      "metadata": {
        "id": "s7LNBUgr0uPx"
      },
      "execution_count": 56,
      "outputs": []
    },
    {
      "cell_type": "code",
      "source": [
        "from PIL import Image\n",
        "\n",
        "demo_image2 = \"/content/drive/MyDrive/University/12th Semester/CSI 416 [Pattern Recognition Lab]/Project/raw_images/fashion/shirt_1.jpg\"\n",
        "img2 = Image.open(demo_image2)\n",
        "\n",
        "\n",
        "plt.imshow(img2)\n",
        "plt.show()\n",
        "\n",
        "img2 = img2.resize((28, 28))\n",
        "imgGray2 = img2.convert('L')\n",
        "imgGray2.save('test_gray2.jpg')\n",
        "\n",
        "plt.imshow(imgGray2)\n",
        "plt.show()\n",
        "\n",
        "image_array2 = np.array(imgGray2)\n",
        "\n",
        "plt.imshow(imgGray2, cmap=plt.get_cmap('gray'))\n",
        "plt.show()\n",
        "\n",
        "image_array2 = image_array2/255\n",
        "\n",
        "new_img2 = np.array(image_array2).reshape(1, 28, 28, 1)    # reshape for kerner operation\n",
        "\n",
        "test_pred2 = model2.predict(new_img2)\n",
        "\n",
        "label = np.argmax(test_pred2)\n",
        "\n",
        "print(\"Predict: \", image_class[label])"
      ],
      "metadata": {
        "id": "RdL8hZFg0uPx",
        "colab": {
          "base_uri": "https://localhost:8080/",
          "height": 782
        },
        "outputId": "ebc0ece8-4422-4a44-e179-28bd5f64538f"
      },
      "execution_count": 57,
      "outputs": [
        {
          "output_type": "display_data",
          "data": {
            "image/png": "[encoded data removed]",
            "text/plain": [
              "<Figure size 432x288 with 1 Axes>"
            ]
          },
          "metadata": {
            "needs_background": "light"
          }
        },
        {
          "output_type": "display_data",
          "data": {
            "image/png": "[encoded data removed]",
            "text/plain": [
              "<Figure size 432x288 with 1 Axes>"
            ]
          },
          "metadata": {
            "needs_background": "light"
          }
        },
        {
          "output_type": "display_data",
          "data": {
            "image/png": "[encoded data removed]",
            "text/plain": [
              "<Figure size 432x288 with 1 Axes>"
            ]
          },
          "metadata": {
            "needs_background": "light"
          }
        },
        {
          "output_type": "stream",
          "name": "stdout",
          "text": [
            "Predict:  Shirt\n"
          ]
        }
      ]
    },
    {
      "cell_type": "markdown",
      "source": [
        "\n",
        "\n",
        "> **Class Label**\n",
        "\n",
        "\n",
        "```\n",
        "0 T-shirt/top\n",
        "1 Trouser\n",
        "2 Pullover\n",
        "3 Dress\n",
        "4 Coat\n",
        "5 Sandal\n",
        "6 Shirt\n",
        "7 Sneaker\n",
        "8 Bag\n",
        "9 Ankle boot\n",
        "```"
      ],
      "metadata": {
        "id": "Uy9INAr-0uPy"
      }
    },
    {
      "cell_type": "code",
      "source": [
        "print(len(test_pred2[0]))\n",
        "for i in range(10):\n",
        "    print(f\"Similarity with {image_class[i]} is --> [{round(test_pred2[0][i]*100, 4)} %]\")"
      ],
      "metadata": {
        "id": "DkdRXGKS0uPy",
        "colab": {
          "base_uri": "https://localhost:8080/"
        },
        "outputId": "20b4fab0-f332-436b-e684-bfcedbc7affe"
      },
      "execution_count": 58,
      "outputs": [
        {
          "output_type": "stream",
          "name": "stdout",
          "text": [
            "10\n",
            "Similarity with T-shirt/top is --> [6.7574 %]\n",
            "Similarity with Trouser is --> [0.0305 %]\n",
            "Similarity with Pullover is --> [0.5813 %]\n",
            "Similarity with Dress is --> [0.0573 %]\n",
            "Similarity with Coat is --> [0.5569 %]\n",
            "Similarity with Sandal is --> [0.0393 %]\n",
            "Similarity with Shirt is --> [86.3899 %]\n",
            "Similarity with Sneaker is --> [0.0031 %]\n",
            "Similarity with Bag is --> [5.5588 %]\n",
            "Similarity with Ankle boot is --> [0.0254 %]\n"
          ]
        }
      ]
    },
    {
      "cell_type": "code",
      "source": [
        "# history.history.keys()"
      ],
      "metadata": {
        "id": "RlnlCl15y9sZ"
      },
      "execution_count": 59,
      "outputs": []
    },
    {
      "cell_type": "code",
      "source": [
        "# summarize history for accuracy\n",
        "plt.plot(history.history['accuracy'])\n",
        "plt.plot(history.history['val_accuracy'])\n",
        "plt.title('model accuracy')\n",
        "plt.ylabel('accuracy')\n",
        "plt.xlabel('epoch')\n",
        "plt.legend(['train', 'test'], loc='upper left')\n",
        "plt.show()\n"
      ],
      "metadata": {
        "id": "xFfY132K1WRn",
        "colab": {
          "base_uri": "https://localhost:8080/",
          "height": 295
        },
        "outputId": "43fa7dd7-c750-4ac6-940a-91720f927f84"
      },
      "execution_count": 60,
      "outputs": [
        {
          "output_type": "display_data",
          "data": {
            "image/png": "[encoded data removed]",
            "text/plain": [
              "<Figure size 432x288 with 1 Axes>"
            ]
          },
          "metadata": {
            "needs_background": "light"
          }
        }
      ]
    },
    {
      "cell_type": "code",
      "source": [
        "# summarize history for loss\n",
        "plt.plot(history.history['loss'])\n",
        "plt.plot(history.history['val_loss'])\n",
        "plt.title('model loss')\n",
        "plt.ylabel('loss')\n",
        "plt.xlabel('epoch')\n",
        "plt.legend(['train', 'test'], loc='upper left')\n",
        "plt.show()"
      ],
      "metadata": {
        "id": "4Jz-FpMm1Xwf",
        "colab": {
          "base_uri": "https://localhost:8080/",
          "height": 295
        },
        "outputId": "fdf2c77b-8cac-43b9-f584-8767f83237fd"
      },
      "execution_count": 61,
      "outputs": [
        {
          "output_type": "display_data",
          "data": {
            "image/png": "[encoded data removed]",
            "text/plain": [
              "<Figure size 432x288 with 1 Axes>"
            ]
          },
          "metadata": {
            "needs_background": "light"
          }
        }
      ]
    }
  ]
}